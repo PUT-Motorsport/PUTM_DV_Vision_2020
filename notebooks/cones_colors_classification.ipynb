{
 "cells": [
  {
   "cell_type": "code",
   "execution_count": 1,
   "metadata": {},
   "outputs": [],
   "source": [
    "import time\n",
    "import numpy as np\n",
    "import tensorflow as tf\n",
    "import matplotlib.pyplot as plt\n",
    "\n",
    "from tensorflow.keras.metrics import Precision, Recall\n",
    "from sklearn.model_selection import train_test_split\n",
    "from sklearn.metrics import f1_score\n",
    "import sklearn.metrics as m"
   ]
  },
  {
   "cell_type": "code",
   "execution_count": 2,
   "metadata": {},
   "outputs": [],
   "source": [
    "physical_devices = tf.config.list_physical_devices('GPU') \n",
    "tf.config.experimental.set_memory_growth(physical_devices[0], True)"
   ]
  },
  {
   "cell_type": "markdown",
   "metadata": {},
   "source": [
    "# SqueezeNet"
   ]
  },
  {
   "cell_type": "code",
   "execution_count": 4,
   "metadata": {},
   "outputs": [],
   "source": [
    "data = np.load('../data/data.npy')\n",
    "labels = np.load('../data/labels.npy')"
   ]
  },
  {
   "cell_type": "code",
   "execution_count": 5,
   "metadata": {},
   "outputs": [
    {
     "name": "stdout",
     "output_type": "stream",
     "text": [
      "[0 0 1]\n"
     ]
    },
    {
     "data": {
      "text/plain": [
       "<matplotlib.image.AxesImage at 0x7f4ae09218b0>"
      ]
     },
     "execution_count": 5,
     "metadata": {},
     "output_type": "execute_result"
    },
    {
     "data": {
      "image/png": "[encoded data removed]",
      "text/plain": [
       "<Figure size 432x288 with 1 Axes>"
      ]
     },
     "metadata": {
      "needs_background": "light"
     },
     "output_type": "display_data"
    }
   ],
   "source": [
    "print(labels[1])\n",
    "plt.imshow(data[1])"
   ]
  },
  {
   "cell_type": "code",
   "execution_count": 6,
   "metadata": {},
   "outputs": [
    {
     "data": {
      "text/plain": [
       "((4000, 40, 28, 3),\n",
       " (4000, 3),\n",
       " (500, 40, 28, 3),\n",
       " (500, 3),\n",
       " (500, 40, 28, 3),\n",
       " (500, 3))"
      ]
     },
     "execution_count": 6,
     "metadata": {},
     "output_type": "execute_result"
    }
   ],
   "source": [
    "X_train, X_val, y_train, y_val = train_test_split(data, labels, train_size=0.8, shuffle=True)\n",
    "X_test, X_val, y_test, y_val = train_test_split(X_val, y_val, train_size=0.5, shuffle=True)\n",
    "X_train.shape, y_train.shape, X_val.shape, y_val.shape, X_test.shape, y_test.shape"
   ]
  },
  {
   "cell_type": "code",
   "execution_count": 7,
   "metadata": {},
   "outputs": [],
   "source": [
    "def fire(x: tf.Tensor, squeeze: int, expand: int, bnmomemtum: float) -> tf.Tensor:\n",
    "    y = tf.keras.layers.Conv2D(filters=squeeze, kernel_size=1, activation='relu', padding='same')(x)\n",
    "    y = tf.keras.layers.BatchNormalization(momentum=bnmomemtum)(y)\n",
    "    y1 = tf.keras.layers.Conv2D(filters=expand//2, kernel_size=1, activation='relu', padding='same')(y)\n",
    "    y1 = tf.keras.layers.BatchNormalization(momentum=bnmomemtum)(y1)\n",
    "    y3 = tf.keras.layers.Conv2D(filters=expand//2, kernel_size=3, activation='relu', padding='same')(y)\n",
    "    y3 = tf.keras.layers.BatchNormalization(momentum=bnmomemtum)(y3)\n",
    "    return tf.keras.layers.concatenate([y1, y3])\n",
    "\n",
    "\n",
    "def fire_module(squeeze: int, expand: int, bnmomemtum: float) -> tf.Tensor:\n",
    "    return lambda x: fire(x, squeeze, expand, bnmomemtum)"
   ]
  },
  {
   "cell_type": "code",
   "execution_count": 8,
   "metadata": {},
   "outputs": [],
   "source": [
    "batch_size = 64\n",
    "nb_epoch = 50\n",
    "img_rows, img_cols, channels = 40, 28, 3\n",
    "classes = 3\n",
    "bnmomemtum = 0.9\n",
    "\n",
    "x = tf.keras.layers.Input(shape=[img_rows, img_cols, channels])\n",
    "\n",
    "y = tf.keras.layers.Conv2D(kernel_size=3, filters=32, padding='same', use_bias=True, activation='relu')(x)\n",
    "y = tf.keras.layers.BatchNormalization(momentum=bnmomemtum)(y)\n",
    "y = fire_module(24, 48, bnmomemtum)(y)\n",
    "y = tf.keras.layers.MaxPooling2D(pool_size=2)(y)\n",
    "y = fire_module(48, 96, bnmomemtum)(y)\n",
    "y = tf.keras.layers.MaxPooling2D(pool_size=2)(y)\n",
    "y = fire_module(64, 128, bnmomemtum)(y)\n",
    "y = tf.keras.layers.MaxPooling2D(pool_size=2)(y)\n",
    "y = fire_module(48, 96, bnmomemtum)(y)\n",
    "y = tf.keras.layers.MaxPooling2D(pool_size=2)(y)\n",
    "y = fire_module(24, 48, bnmomemtum)(y)\n",
    "y = tf.keras.layers.GlobalAveragePooling2D()(y)\n",
    "y = tf.keras.layers.Dense(classes, activation='softmax')(y)\n",
    "\n",
    "model = tf.keras.Model(x, y)\n",
    "\n",
    "model.compile(\n",
    "    optimizer='adam',\n",
    "    loss= 'categorical_crossentropy',\n",
    "    metrics=['accuracy', Precision(), Recall()])\n",
    "\n",
    "callbacks = [\n",
    "    tf.keras.callbacks.EarlyStopping(patience=5, restore_best_weights=True),\n",
    "    tf.keras.callbacks.ModelCheckpoint('logs', save_best_only=True),\n",
    "    tf.keras.callbacks.ReduceLROnPlateau(),\n",
    "    tf.keras.callbacks.TensorBoard()\n",
    "]"
   ]
  },
  {
   "cell_type": "code",
   "execution_count": 9,
   "metadata": {
    "scrolled": true
   },
   "outputs": [],
   "source": [
    "# model.summary()"
   ]
  },
  {
   "cell_type": "code",
   "execution_count": 10,
   "metadata": {},
   "outputs": [
    {
     "name": "stdout",
     "output_type": "stream",
     "text": [
      "Epoch 1/50\n",
      "63/63 [==============================] - 13s 116ms/step - loss: 0.4116 - accuracy: 0.8483 - precision: 0.8729 - recall: 0.8008 - val_loss: 0.0224 - val_accuracy: 0.9980 - val_precision: 1.0000 - val_recall: 0.9980\n",
      "INFO:tensorflow:Assets written to: logs/assets\n",
      "Epoch 2/50\n",
      "63/63 [==============================] - 4s 67ms/step - loss: 0.0334 - accuracy: 0.9943 - precision: 0.9948 - recall: 0.9927 - val_loss: 0.0983 - val_accuracy: 0.9800 - val_precision: 0.9839 - val_recall: 0.9780\n",
      "Epoch 3/50\n",
      "63/63 [==============================] - 4s 66ms/step - loss: 0.0363 - accuracy: 0.9951 - precision: 0.9954 - recall: 0.9943 - val_loss: 0.0318 - val_accuracy: 0.9940 - val_precision: 0.9960 - val_recall: 0.9940\n",
      "Epoch 4/50\n",
      "63/63 [==============================] - 4s 67ms/step - loss: 0.0309 - accuracy: 0.9948 - precision: 0.9949 - recall: 0.9940 - val_loss: 0.0293 - val_accuracy: 0.9940 - val_precision: 0.9940 - val_recall: 0.9940\n",
      "Epoch 5/50\n",
      "63/63 [==============================] - 4s 66ms/step - loss: 0.0337 - accuracy: 0.9913 - precision: 0.9935 - recall: 0.9912 - val_loss: 0.0199 - val_accuracy: 0.9940 - val_precision: 0.9960 - val_recall: 0.9940\n",
      "INFO:tensorflow:Assets written to: logs/assets\n",
      "Epoch 6/50\n",
      "63/63 [==============================] - 4s 66ms/step - loss: 0.0154 - accuracy: 0.9968 - precision: 0.9970 - recall: 0.9966 - val_loss: 0.0507 - val_accuracy: 0.9920 - val_precision: 0.9920 - val_recall: 0.9920\n",
      "Epoch 7/50\n",
      "63/63 [==============================] - 4s 66ms/step - loss: 0.0219 - accuracy: 0.9948 - precision: 0.9951 - recall: 0.9948 - val_loss: 0.0256 - val_accuracy: 0.9940 - val_precision: 0.9940 - val_recall: 0.9940\n",
      "Epoch 8/50\n",
      "63/63 [==============================] - 4s 67ms/step - loss: 0.0122 - accuracy: 0.9964 - precision: 0.9964 - recall: 0.9962 - val_loss: 0.0249 - val_accuracy: 0.9960 - val_precision: 0.9960 - val_recall: 0.9960\n",
      "Epoch 9/50\n",
      "63/63 [==============================] - 4s 68ms/step - loss: 0.0100 - accuracy: 0.9977 - precision: 0.9978 - recall: 0.9972 - val_loss: 0.0218 - val_accuracy: 0.9940 - val_precision: 0.9960 - val_recall: 0.9940\n",
      "Epoch 10/50\n",
      "63/63 [==============================] - 4s 68ms/step - loss: 0.0169 - accuracy: 0.9959 - precision: 0.9961 - recall: 0.9958 - val_loss: 0.0250 - val_accuracy: 0.9940 - val_precision: 0.9940 - val_recall: 0.9940\n"
     ]
    }
   ],
   "source": [
    "h = model.fit(X_train, y_train, batch_size=batch_size, epochs=nb_epoch, validation_data=(X_val, y_val), callbacks=callbacks)"
   ]
  },
  {
   "cell_type": "code",
   "execution_count": 11,
   "metadata": {},
   "outputs": [
    {
     "name": "stdout",
     "output_type": "stream",
     "text": [
      "125/125 [==============================] - 2s 11ms/step - loss: 0.0142 - accuracy: 0.9970 - precision: 0.9972 - recall: 0.9955\n",
      "16/16 [==============================] - 1s 40ms/step - loss: 0.0199 - accuracy: 0.9940 - precision: 0.9960 - recall: 0.9940\n",
      "16/16 [==============================] - 0s 11ms/step - loss: 0.0262 - accuracy: 0.9920 - precision: 0.9920 - recall: 0.9920\n"
     ]
    },
    {
     "data": {
      "text/plain": [
       "[0.02615700475871563,\n",
       " 0.9919999837875366,\n",
       " 0.9919999837875366,\n",
       " 0.9919999837875366]"
      ]
     },
     "execution_count": 11,
     "metadata": {},
     "output_type": "execute_result"
    }
   ],
   "source": [
    "model.evaluate(X_train, y_train)\n",
    "model.evaluate(X_val, y_val)\n",
    "model.evaluate(X_test, y_test)"
   ]
  },
  {
   "cell_type": "code",
   "execution_count": 12,
   "metadata": {},
   "outputs": [
    {
     "name": "stdout",
     "output_type": "stream",
     "text": [
      "1/1 [==============================] - 0s 463ms/step - loss: 0.1285 - accuracy: 0.9231 - precision: 0.9231 - recall: 0.9231\n",
      "9/9 [==============================] - 0s 10ms/step - loss: 0.0063 - accuracy: 1.0000 - precision: 1.0000 - recall: 1.0000\n",
      "7/7 [==============================] - 1s 90ms/step - loss: 0.0445 - accuracy: 0.9862 - precision: 0.9862 - recall: 0.9862\n"
     ]
    },
    {
     "data": {
      "text/plain": [
       "[0.044517822563648224,\n",
       " 0.9862385392189026,\n",
       " 0.9862385392189026,\n",
       " 0.9862385392189026]"
      ]
     },
     "execution_count": 12,
     "metadata": {},
     "output_type": "execute_result"
    }
   ],
   "source": [
    "model.evaluate(X_test[np.where(y_test[:,0] == 1)], y_test[np.where(y_test[:,0] == 1)])\n",
    "model.evaluate(X_test[np.where(y_test[:,1] == 1)], y_test[np.where(y_test[:,1] == 1)])\n",
    "model.evaluate(X_test[np.where(y_test[:,2] == 1)], y_test[np.where(y_test[:,2] == 1)])"
   ]
  },
  {
   "cell_type": "code",
   "execution_count": 13,
   "metadata": {},
   "outputs": [],
   "source": [
    "preds = model.predict(X_test)\n",
    "labels = np.argmax(preds, axis=1)\n",
    "gt_labels = np.argmax(y_test, axis=1)"
   ]
  },
  {
   "cell_type": "code",
   "execution_count": 15,
   "metadata": {},
   "outputs": [
    {
     "data": {
      "text/plain": [
       "0.9919958506401199"
      ]
     },
     "execution_count": 15,
     "metadata": {},
     "output_type": "execute_result"
    }
   ],
   "source": [
    "f1_score(gt_labels, labels, average='weighted')"
   ]
  },
  {
   "cell_type": "code",
   "execution_count": 17,
   "metadata": {},
   "outputs": [],
   "source": [
    "# model.save('../models/color_model')"
   ]
  }
 ],
 "metadata": {
  "kernelspec": {
   "display_name": "sw",
   "language": "python",
   "name": "sw"
  },
  "language_info": {
   "codemirror_mode": {
    "name": "ipython",
    "version": 3
   },
   "file_extension": ".py",
   "mimetype": "text/x-python",
   "name": "python",
   "nbconvert_exporter": "python",
   "pygments_lexer": "ipython3",
   "version": "3.8.5"
  }
 },
 "nbformat": 4,
 "nbformat_minor": 4
}
